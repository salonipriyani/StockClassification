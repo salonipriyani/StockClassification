{
  "nbformat": 4,
  "nbformat_minor": 0,
  "metadata": {
    "colab": {
      "name": "stock-classification.ipynb",
      "provenance": [],
      "collapsed_sections": []
    },
    "kernelspec": {
      "name": "python3",
      "display_name": "Python 3"
    },
    "language_info": {
      "name": "python"
    }
  },
  "cells": [
    {
      "cell_type": "code",
      "metadata": {
        "id": "oI7nbPV_6D_9"
      },
      "source": [
        "import pandas as pd\n",
        "import matplotlib.pyplot as plt\n",
        "from sklearn.ensemble import ExtraTreesClassifier, AdaBoostClassifier, GradientBoostingClassifier, RandomForestClassifier\n",
        "import numpy as np\n",
        "from sklearn.model_selection import train_test_split \n",
        "from sklearn.preprocessing import StandardScaler\n",
        "from sklearn.pipeline import Pipeline\n",
        "from sklearn.tree import DecisionTreeClassifier\n",
        "from sklearn.dummy import DummyClassifier\n",
        "from sklearn.neighbors import KNeighborsClassifier\n",
        "from sklearn.linear_model import LogisticRegression\n",
        "from sklearn.naive_bayes import GaussianNB\n",
        "from sklearn.svm import SVC\n",
        "from sklearn.metrics import confusion_matrix, classification_report, accuracy_score\n",
        "\n",
        "import os\n",
        "os.environ['KMP_DUPLICATE_LIB_OK']='True'\n",
        "from xgboost import XGBClassifier"
      ],
      "execution_count": 25,
      "outputs": []
    },
    {
      "cell_type": "markdown",
      "metadata": {
        "id": "Av8uaCR26S6a"
      },
      "source": [
        "Getting data"
      ]
    },
    {
      "cell_type": "code",
      "metadata": {
        "id": "1Uk2WnzU6a5M"
      },
      "source": [
        "df = pd.read_csv(\"final_df.csv\")"
      ],
      "execution_count": 2,
      "outputs": []
    },
    {
      "cell_type": "code",
      "metadata": {
        "id": "_XR2bPpe73Ck"
      },
      "source": [
        "#formatting the dataframe\n",
        "df.rename(columns = {'Unnamed: 0': 'Year'}, inplace=True)\n",
        "df = df.set_index('Year')"
      ],
      "execution_count": 3,
      "outputs": []
    },
    {
      "cell_type": "code",
      "metadata": {
        "id": "n12cSUdn8Gm7"
      },
      "source": [
        "#Dropping price high and price low\n",
        "df.drop(['Price high', 'Price low'], axis=1, inplace=True)"
      ],
      "execution_count": 5,
      "outputs": []
    },
    {
      "cell_type": "code",
      "metadata": {
        "colab": {
          "base_uri": "https://localhost:8080/",
          "height": 323
        },
        "id": "y7tXlQbrEKc_",
        "outputId": "4237f925-66eb-4740-bdad-a6f2107e55ba"
      },
      "source": [
        "df.head()"
      ],
      "execution_count": 6,
      "outputs": [
        {
          "output_type": "execute_result",
          "data": {
            "text/html": [
              "<div>\n",
              "<style scoped>\n",
              "    .dataframe tbody tr th:only-of-type {\n",
              "        vertical-align: middle;\n",
              "    }\n",
              "\n",
              "    .dataframe tbody tr th {\n",
              "        vertical-align: top;\n",
              "    }\n",
              "\n",
              "    .dataframe thead th {\n",
              "        text-align: right;\n",
              "    }\n",
              "</style>\n",
              "<table border=\"1\" class=\"dataframe\">\n",
              "  <thead>\n",
              "    <tr style=\"text-align: right;\">\n",
              "      <th></th>\n",
              "      <th>Long-Term Debt</th>\n",
              "      <th>Revaluation Reserves</th>\n",
              "      <th>Total Equity</th>\n",
              "      <th>Net Property, Plant &amp; Equipment</th>\n",
              "      <th>Capitalized Lease Obligations</th>\n",
              "      <th>Retained Earnings</th>\n",
              "      <th>Treasury Stock</th>\n",
              "      <th>Total Assets</th>\n",
              "      <th>Preferred Stock (Carrying Value)</th>\n",
              "      <th>Common Stock Par/Carry Value</th>\n",
              "      <th>Total Shareholders' Equity</th>\n",
              "      <th>Accumulated Minority Interest</th>\n",
              "      <th>Total Liabilities</th>\n",
              "      <th>Non-Redeemable Preferred Stock</th>\n",
              "      <th>Other Liabilities</th>\n",
              "      <th>Intangible Assets</th>\n",
              "      <th>Liabilities &amp; Shareholders' Equity</th>\n",
              "      <th>Redeemable Preferred Stock</th>\n",
              "      <th>Other Liabilities (excl. Deferred Income)</th>\n",
              "      <th>Total Shareholders' Equity / Total Assets</th>\n",
              "      <th>Target</th>\n",
              "      <th>Short Term Debt</th>\n",
              "      <th>ESOP Debt Guarantee</th>\n",
              "      <th>Cumulative Translation Adjustment/Unrealized For. Exch. Gain</th>\n",
              "      <th>Common Equity / Total Assets</th>\n",
              "      <th>Common Equity (Total)</th>\n",
              "    </tr>\n",
              "    <tr>\n",
              "      <th>Year</th>\n",
              "      <th></th>\n",
              "      <th></th>\n",
              "      <th></th>\n",
              "      <th></th>\n",
              "      <th></th>\n",
              "      <th></th>\n",
              "      <th></th>\n",
              "      <th></th>\n",
              "      <th></th>\n",
              "      <th></th>\n",
              "      <th></th>\n",
              "      <th></th>\n",
              "      <th></th>\n",
              "      <th></th>\n",
              "      <th></th>\n",
              "      <th></th>\n",
              "      <th></th>\n",
              "      <th></th>\n",
              "      <th></th>\n",
              "      <th></th>\n",
              "      <th></th>\n",
              "      <th></th>\n",
              "      <th></th>\n",
              "      <th></th>\n",
              "      <th></th>\n",
              "      <th></th>\n",
              "    </tr>\n",
              "  </thead>\n",
              "  <tbody>\n",
              "    <tr>\n",
              "      <th>2016</th>\n",
              "      <td>21.818182</td>\n",
              "      <td>0.0</td>\n",
              "      <td>-9.851787</td>\n",
              "      <td>0.000000</td>\n",
              "      <td>-2.173913</td>\n",
              "      <td>4.435262</td>\n",
              "      <td>9.094809</td>\n",
              "      <td>0.091241</td>\n",
              "      <td>0.0</td>\n",
              "      <td>0.000000</td>\n",
              "      <td>-9.886264</td>\n",
              "      <td>15.384615</td>\n",
              "      <td>5.322129</td>\n",
              "      <td>0.0</td>\n",
              "      <td>2.564103</td>\n",
              "      <td>-3.037975</td>\n",
              "      <td>0.091241</td>\n",
              "      <td>0.0</td>\n",
              "      <td>3.478261</td>\n",
              "      <td>-9.953970</td>\n",
              "      <td>Buy</td>\n",
              "      <td>-91.568627</td>\n",
              "      <td>0.0</td>\n",
              "      <td>19.642857</td>\n",
              "      <td>-9.953970</td>\n",
              "      <td>-9.886264</td>\n",
              "    </tr>\n",
              "    <tr>\n",
              "      <th>2017</th>\n",
              "      <td>13.432836</td>\n",
              "      <td>0.0</td>\n",
              "      <td>12.379110</td>\n",
              "      <td>4.107981</td>\n",
              "      <td>33.333333</td>\n",
              "      <td>3.191770</td>\n",
              "      <td>1.808887</td>\n",
              "      <td>15.436038</td>\n",
              "      <td>0.0</td>\n",
              "      <td>0.000000</td>\n",
              "      <td>12.233010</td>\n",
              "      <td>31.111111</td>\n",
              "      <td>16.888298</td>\n",
              "      <td>0.0</td>\n",
              "      <td>95.833333</td>\n",
              "      <td>17.058312</td>\n",
              "      <td>15.436038</td>\n",
              "      <td>0.0</td>\n",
              "      <td>97.478992</td>\n",
              "      <td>-2.747604</td>\n",
              "      <td>Hold</td>\n",
              "      <td>336.627907</td>\n",
              "      <td>0.0</td>\n",
              "      <td>-18.407960</td>\n",
              "      <td>-2.747604</td>\n",
              "      <td>12.233010</td>\n",
              "    </tr>\n",
              "    <tr>\n",
              "      <th>2018</th>\n",
              "      <td>10.937500</td>\n",
              "      <td>0.0</td>\n",
              "      <td>-15.232358</td>\n",
              "      <td>-1.465614</td>\n",
              "      <td>25.000000</td>\n",
              "      <td>3.885481</td>\n",
              "      <td>14.445732</td>\n",
              "      <td>-3.922085</td>\n",
              "      <td>0.0</td>\n",
              "      <td>0.000000</td>\n",
              "      <td>-15.224913</td>\n",
              "      <td>-11.864407</td>\n",
              "      <td>1.061813</td>\n",
              "      <td>0.0</td>\n",
              "      <td>0.425532</td>\n",
              "      <td>-5.501859</td>\n",
              "      <td>-3.922085</td>\n",
              "      <td>0.0</td>\n",
              "      <td>0.425532</td>\n",
              "      <td>-11.826544</td>\n",
              "      <td>Sell</td>\n",
              "      <td>-37.949401</td>\n",
              "      <td>0.0</td>\n",
              "      <td>28.048780</td>\n",
              "      <td>-11.826544</td>\n",
              "      <td>-15.224913</td>\n",
              "    </tr>\n",
              "    <tr>\n",
              "      <th>2016</th>\n",
              "      <td>252.299830</td>\n",
              "      <td>0.0</td>\n",
              "      <td>-2.859822</td>\n",
              "      <td>-0.349040</td>\n",
              "      <td>0.000000</td>\n",
              "      <td>-0.737578</td>\n",
              "      <td>1.600753</td>\n",
              "      <td>25.022727</td>\n",
              "      <td>0.0</td>\n",
              "      <td>2.356638</td>\n",
              "      <td>-3.158887</td>\n",
              "      <td>55.652174</td>\n",
              "      <td>51.190476</td>\n",
              "      <td>0.0</td>\n",
              "      <td>26.229508</td>\n",
              "      <td>-19.605263</td>\n",
              "      <td>25.022727</td>\n",
              "      <td>0.0</td>\n",
              "      <td>26.229508</td>\n",
              "      <td>-22.567932</td>\n",
              "      <td>Buy</td>\n",
              "      <td>-57.827476</td>\n",
              "      <td>0.0</td>\n",
              "      <td>2.691511</td>\n",
              "      <td>-22.567932</td>\n",
              "      <td>-3.158887</td>\n",
              "    </tr>\n",
              "    <tr>\n",
              "      <th>2017</th>\n",
              "      <td>31.576402</td>\n",
              "      <td>0.0</td>\n",
              "      <td>50.096525</td>\n",
              "      <td>33.274956</td>\n",
              "      <td>0.000000</td>\n",
              "      <td>-6.218224</td>\n",
              "      <td>-5.189991</td>\n",
              "      <td>38.611162</td>\n",
              "      <td>0.0</td>\n",
              "      <td>78.127398</td>\n",
              "      <td>50.438169</td>\n",
              "      <td>12.290503</td>\n",
              "      <td>31.671041</td>\n",
              "      <td>0.0</td>\n",
              "      <td>184.415584</td>\n",
              "      <td>272.258592</td>\n",
              "      <td>38.611162</td>\n",
              "      <td>0.0</td>\n",
              "      <td>184.415584</td>\n",
              "      <td>8.545406</td>\n",
              "      <td>Buy</td>\n",
              "      <td>-84.393939</td>\n",
              "      <td>0.0</td>\n",
              "      <td>-30.443548</td>\n",
              "      <td>8.545406</td>\n",
              "      <td>50.438169</td>\n",
              "    </tr>\n",
              "  </tbody>\n",
              "</table>\n",
              "</div>"
            ],
            "text/plain": [
              "      Long-Term Debt  ...  Common Equity (Total)\n",
              "Year                  ...                       \n",
              "2016       21.818182  ...              -9.886264\n",
              "2017       13.432836  ...              12.233010\n",
              "2018       10.937500  ...             -15.224913\n",
              "2016      252.299830  ...              -3.158887\n",
              "2017       31.576402  ...              50.438169\n",
              "\n",
              "[5 rows x 26 columns]"
            ]
          },
          "metadata": {},
          "execution_count": 6
        }
      ]
    },
    {
      "cell_type": "markdown",
      "metadata": {
        "id": "0rJvl4hvESY-"
      },
      "source": [
        "Exploratory Data Analysis"
      ]
    },
    {
      "cell_type": "code",
      "metadata": {
        "colab": {
          "base_uri": "https://localhost:8080/",
          "height": 390
        },
        "id": "8bMrLO6UELZz",
        "outputId": "6e55e017-de34-49df-d83a-3c9da64c8bb3"
      },
      "source": [
        "plt.figure(figsize = (10,6))\n",
        "plt.bar(\"Buy\", df.groupby(['Target']).count().loc['Buy'][0])\n",
        "plt.bar(\"Sell\", df.groupby(['Target']).count().loc['Sell'][0])\n",
        "plt.bar(\"Hold\", df.groupby(['Target']).count().loc['Hold'][0])\n",
        "\n",
        "plt.ylabel(\"Count of annual reports\")\n",
        "plt.title(\"# of annual reports\")\n",
        "plt.show()"
      ],
      "execution_count": 9,
      "outputs": [
        {
          "output_type": "display_data",
          "data": {
            "image/png": "[encoded data removed]",
            "text/plain": [
              "<Figure size 720x432 with 1 Axes>"
            ]
          },
          "metadata": {
            "needs_background": "light"
          }
        }
      ]
    },
    {
      "cell_type": "code",
      "metadata": {
        "colab": {
          "base_uri": "https://localhost:8080/",
          "height": 538
        },
        "id": "p0XMBPifE4fp",
        "outputId": "39567fb8-9f8a-4338-c526-22e6515e9956"
      },
      "source": [
        "#Replacing \"Buy\",\"Sell\" and \"Hold\" as 0,1,2\n",
        "target = {'Sell':0, 'Hold':1, 'Buy':2}\n",
        "df.Target = [target[item] for item in df.Target]\n",
        "df"
      ],
      "execution_count": 10,
      "outputs": [
        {
          "output_type": "execute_result",
          "data": {
            "text/html": [
              "<div>\n",
              "<style scoped>\n",
              "    .dataframe tbody tr th:only-of-type {\n",
              "        vertical-align: middle;\n",
              "    }\n",
              "\n",
              "    .dataframe tbody tr th {\n",
              "        vertical-align: top;\n",
              "    }\n",
              "\n",
              "    .dataframe thead th {\n",
              "        text-align: right;\n",
              "    }\n",
              "</style>\n",
              "<table border=\"1\" class=\"dataframe\">\n",
              "  <thead>\n",
              "    <tr style=\"text-align: right;\">\n",
              "      <th></th>\n",
              "      <th>Long-Term Debt</th>\n",
              "      <th>Revaluation Reserves</th>\n",
              "      <th>Total Equity</th>\n",
              "      <th>Net Property, Plant &amp; Equipment</th>\n",
              "      <th>Capitalized Lease Obligations</th>\n",
              "      <th>Retained Earnings</th>\n",
              "      <th>Treasury Stock</th>\n",
              "      <th>Total Assets</th>\n",
              "      <th>Preferred Stock (Carrying Value)</th>\n",
              "      <th>Common Stock Par/Carry Value</th>\n",
              "      <th>Total Shareholders' Equity</th>\n",
              "      <th>Accumulated Minority Interest</th>\n",
              "      <th>Total Liabilities</th>\n",
              "      <th>Non-Redeemable Preferred Stock</th>\n",
              "      <th>Other Liabilities</th>\n",
              "      <th>Intangible Assets</th>\n",
              "      <th>Liabilities &amp; Shareholders' Equity</th>\n",
              "      <th>Redeemable Preferred Stock</th>\n",
              "      <th>Other Liabilities (excl. Deferred Income)</th>\n",
              "      <th>Total Shareholders' Equity / Total Assets</th>\n",
              "      <th>Target</th>\n",
              "      <th>Short Term Debt</th>\n",
              "      <th>ESOP Debt Guarantee</th>\n",
              "      <th>Cumulative Translation Adjustment/Unrealized For. Exch. Gain</th>\n",
              "      <th>Common Equity / Total Assets</th>\n",
              "      <th>Common Equity (Total)</th>\n",
              "    </tr>\n",
              "    <tr>\n",
              "      <th>Year</th>\n",
              "      <th></th>\n",
              "      <th></th>\n",
              "      <th></th>\n",
              "      <th></th>\n",
              "      <th></th>\n",
              "      <th></th>\n",
              "      <th></th>\n",
              "      <th></th>\n",
              "      <th></th>\n",
              "      <th></th>\n",
              "      <th></th>\n",
              "      <th></th>\n",
              "      <th></th>\n",
              "      <th></th>\n",
              "      <th></th>\n",
              "      <th></th>\n",
              "      <th></th>\n",
              "      <th></th>\n",
              "      <th></th>\n",
              "      <th></th>\n",
              "      <th></th>\n",
              "      <th></th>\n",
              "      <th></th>\n",
              "      <th></th>\n",
              "      <th></th>\n",
              "      <th></th>\n",
              "    </tr>\n",
              "  </thead>\n",
              "  <tbody>\n",
              "    <tr>\n",
              "      <th>2016</th>\n",
              "      <td>21.818182</td>\n",
              "      <td>0.0</td>\n",
              "      <td>-9.851787</td>\n",
              "      <td>0.000000</td>\n",
              "      <td>-2.173913</td>\n",
              "      <td>4.435262</td>\n",
              "      <td>9.094809</td>\n",
              "      <td>0.091241</td>\n",
              "      <td>0.000000</td>\n",
              "      <td>0.000000</td>\n",
              "      <td>-9.886264</td>\n",
              "      <td>15.384615</td>\n",
              "      <td>5.322129</td>\n",
              "      <td>0.0</td>\n",
              "      <td>2.564103</td>\n",
              "      <td>-3.037975</td>\n",
              "      <td>0.091241</td>\n",
              "      <td>0.0</td>\n",
              "      <td>3.478261</td>\n",
              "      <td>-9.953970</td>\n",
              "      <td>2</td>\n",
              "      <td>-9.156863e+01</td>\n",
              "      <td>0.0</td>\n",
              "      <td>19.642857</td>\n",
              "      <td>-9.953970</td>\n",
              "      <td>-9.886264</td>\n",
              "    </tr>\n",
              "    <tr>\n",
              "      <th>2017</th>\n",
              "      <td>13.432836</td>\n",
              "      <td>0.0</td>\n",
              "      <td>12.379110</td>\n",
              "      <td>4.107981</td>\n",
              "      <td>33.333333</td>\n",
              "      <td>3.191770</td>\n",
              "      <td>1.808887</td>\n",
              "      <td>15.436038</td>\n",
              "      <td>0.000000</td>\n",
              "      <td>0.000000</td>\n",
              "      <td>12.233010</td>\n",
              "      <td>31.111111</td>\n",
              "      <td>16.888298</td>\n",
              "      <td>0.0</td>\n",
              "      <td>95.833333</td>\n",
              "      <td>17.058312</td>\n",
              "      <td>15.436038</td>\n",
              "      <td>0.0</td>\n",
              "      <td>97.478992</td>\n",
              "      <td>-2.747604</td>\n",
              "      <td>1</td>\n",
              "      <td>3.366279e+02</td>\n",
              "      <td>0.0</td>\n",
              "      <td>-18.407960</td>\n",
              "      <td>-2.747604</td>\n",
              "      <td>12.233010</td>\n",
              "    </tr>\n",
              "    <tr>\n",
              "      <th>2018</th>\n",
              "      <td>10.937500</td>\n",
              "      <td>0.0</td>\n",
              "      <td>-15.232358</td>\n",
              "      <td>-1.465614</td>\n",
              "      <td>25.000000</td>\n",
              "      <td>3.885481</td>\n",
              "      <td>14.445732</td>\n",
              "      <td>-3.922085</td>\n",
              "      <td>0.000000</td>\n",
              "      <td>0.000000</td>\n",
              "      <td>-15.224913</td>\n",
              "      <td>-11.864407</td>\n",
              "      <td>1.061813</td>\n",
              "      <td>0.0</td>\n",
              "      <td>0.425532</td>\n",
              "      <td>-5.501859</td>\n",
              "      <td>-3.922085</td>\n",
              "      <td>0.0</td>\n",
              "      <td>0.425532</td>\n",
              "      <td>-11.826544</td>\n",
              "      <td>0</td>\n",
              "      <td>-3.794940e+01</td>\n",
              "      <td>0.0</td>\n",
              "      <td>28.048780</td>\n",
              "      <td>-11.826544</td>\n",
              "      <td>-15.224913</td>\n",
              "    </tr>\n",
              "    <tr>\n",
              "      <th>2016</th>\n",
              "      <td>252.299830</td>\n",
              "      <td>0.0</td>\n",
              "      <td>-2.859822</td>\n",
              "      <td>-0.349040</td>\n",
              "      <td>0.000000</td>\n",
              "      <td>-0.737578</td>\n",
              "      <td>1.600753</td>\n",
              "      <td>25.022727</td>\n",
              "      <td>0.000000</td>\n",
              "      <td>2.356638</td>\n",
              "      <td>-3.158887</td>\n",
              "      <td>55.652174</td>\n",
              "      <td>51.190476</td>\n",
              "      <td>0.0</td>\n",
              "      <td>26.229508</td>\n",
              "      <td>-19.605263</td>\n",
              "      <td>25.022727</td>\n",
              "      <td>0.0</td>\n",
              "      <td>26.229508</td>\n",
              "      <td>-22.567932</td>\n",
              "      <td>2</td>\n",
              "      <td>-5.782748e+01</td>\n",
              "      <td>0.0</td>\n",
              "      <td>2.691511</td>\n",
              "      <td>-22.567932</td>\n",
              "      <td>-3.158887</td>\n",
              "    </tr>\n",
              "    <tr>\n",
              "      <th>2017</th>\n",
              "      <td>31.576402</td>\n",
              "      <td>0.0</td>\n",
              "      <td>50.096525</td>\n",
              "      <td>33.274956</td>\n",
              "      <td>0.000000</td>\n",
              "      <td>-6.218224</td>\n",
              "      <td>-5.189991</td>\n",
              "      <td>38.611162</td>\n",
              "      <td>0.000000</td>\n",
              "      <td>78.127398</td>\n",
              "      <td>50.438169</td>\n",
              "      <td>12.290503</td>\n",
              "      <td>31.671041</td>\n",
              "      <td>0.0</td>\n",
              "      <td>184.415584</td>\n",
              "      <td>272.258592</td>\n",
              "      <td>38.611162</td>\n",
              "      <td>0.0</td>\n",
              "      <td>184.415584</td>\n",
              "      <td>8.545406</td>\n",
              "      <td>2</td>\n",
              "      <td>-8.439394e+01</td>\n",
              "      <td>0.0</td>\n",
              "      <td>-30.443548</td>\n",
              "      <td>8.545406</td>\n",
              "      <td>50.438169</td>\n",
              "    </tr>\n",
              "    <tr>\n",
              "      <th>...</th>\n",
              "      <td>...</td>\n",
              "      <td>...</td>\n",
              "      <td>...</td>\n",
              "      <td>...</td>\n",
              "      <td>...</td>\n",
              "      <td>...</td>\n",
              "      <td>...</td>\n",
              "      <td>...</td>\n",
              "      <td>...</td>\n",
              "      <td>...</td>\n",
              "      <td>...</td>\n",
              "      <td>...</td>\n",
              "      <td>...</td>\n",
              "      <td>...</td>\n",
              "      <td>...</td>\n",
              "      <td>...</td>\n",
              "      <td>...</td>\n",
              "      <td>...</td>\n",
              "      <td>...</td>\n",
              "      <td>...</td>\n",
              "      <td>...</td>\n",
              "      <td>...</td>\n",
              "      <td>...</td>\n",
              "      <td>...</td>\n",
              "      <td>...</td>\n",
              "      <td>...</td>\n",
              "    </tr>\n",
              "    <tr>\n",
              "      <th>2017</th>\n",
              "      <td>0.198828</td>\n",
              "      <td>0.0</td>\n",
              "      <td>0.655308</td>\n",
              "      <td>6.862745</td>\n",
              "      <td>35.135135</td>\n",
              "      <td>21.120690</td>\n",
              "      <td>0.000000</td>\n",
              "      <td>4.776166</td>\n",
              "      <td>-20.236753</td>\n",
              "      <td>-5.720339</td>\n",
              "      <td>0.655308</td>\n",
              "      <td>0.000000</td>\n",
              "      <td>5.339545</td>\n",
              "      <td>-100.0</td>\n",
              "      <td>-39.384289</td>\n",
              "      <td>0.000000</td>\n",
              "      <td>4.776166</td>\n",
              "      <td>0.0</td>\n",
              "      <td>-39.384289</td>\n",
              "      <td>-3.990025</td>\n",
              "      <td>1</td>\n",
              "      <td>5.019800e+02</td>\n",
              "      <td>0.0</td>\n",
              "      <td>0.000000</td>\n",
              "      <td>-1.924840</td>\n",
              "      <td>2.745665</td>\n",
              "    </tr>\n",
              "    <tr>\n",
              "      <th>2018</th>\n",
              "      <td>89.033943</td>\n",
              "      <td>0.0</td>\n",
              "      <td>-1.302083</td>\n",
              "      <td>2.752294</td>\n",
              "      <td>300.000000</td>\n",
              "      <td>23.131673</td>\n",
              "      <td>0.000000</td>\n",
              "      <td>3.715962</td>\n",
              "      <td>0.000000</td>\n",
              "      <td>-100.000000</td>\n",
              "      <td>-1.302083</td>\n",
              "      <td>0.000000</td>\n",
              "      <td>4.371492</td>\n",
              "      <td>566000000.0</td>\n",
              "      <td>10.858144</td>\n",
              "      <td>0.000000</td>\n",
              "      <td>3.715962</td>\n",
              "      <td>0.0</td>\n",
              "      <td>10.858144</td>\n",
              "      <td>-4.848485</td>\n",
              "      <td>1</td>\n",
              "      <td>1.345382e+01</td>\n",
              "      <td>0.0</td>\n",
              "      <td>0.000000</td>\n",
              "      <td>-4.953271</td>\n",
              "      <td>-1.406470</td>\n",
              "    </tr>\n",
              "    <tr>\n",
              "      <th>2016</th>\n",
              "      <td>0.224215</td>\n",
              "      <td>0.0</td>\n",
              "      <td>37.614679</td>\n",
              "      <td>5.343511</td>\n",
              "      <td>0.000000</td>\n",
              "      <td>68.949772</td>\n",
              "      <td>107.389163</td>\n",
              "      <td>-3.286979</td>\n",
              "      <td>0.000000</td>\n",
              "      <td>0.000000</td>\n",
              "      <td>39.252336</td>\n",
              "      <td>-47.826087</td>\n",
              "      <td>-9.824047</td>\n",
              "      <td>0.0</td>\n",
              "      <td>18.852459</td>\n",
              "      <td>2.264151</td>\n",
              "      <td>-3.286979</td>\n",
              "      <td>0.0</td>\n",
              "      <td>18.852459</td>\n",
              "      <td>44.000000</td>\n",
              "      <td>2</td>\n",
              "      <td>-1.000000e+02</td>\n",
              "      <td>0.0</td>\n",
              "      <td>-3.476821</td>\n",
              "      <td>44.000000</td>\n",
              "      <td>39.252336</td>\n",
              "    </tr>\n",
              "    <tr>\n",
              "      <th>2017</th>\n",
              "      <td>10.738255</td>\n",
              "      <td>0.0</td>\n",
              "      <td>19.333333</td>\n",
              "      <td>4.347826</td>\n",
              "      <td>0.000000</td>\n",
              "      <td>42.567568</td>\n",
              "      <td>102.375297</td>\n",
              "      <td>12.287582</td>\n",
              "      <td>0.000000</td>\n",
              "      <td>0.000000</td>\n",
              "      <td>18.791946</td>\n",
              "      <td>33.333333</td>\n",
              "      <td>10.569106</td>\n",
              "      <td>0.0</td>\n",
              "      <td>-31.034483</td>\n",
              "      <td>2.583026</td>\n",
              "      <td>12.287582</td>\n",
              "      <td>0.0</td>\n",
              "      <td>-31.034483</td>\n",
              "      <td>6.018519</td>\n",
              "      <td>2</td>\n",
              "      <td>9.000000e+06</td>\n",
              "      <td>0.0</td>\n",
              "      <td>-16.466552</td>\n",
              "      <td>6.018519</td>\n",
              "      <td>18.791946</td>\n",
              "    </tr>\n",
              "    <tr>\n",
              "      <th>2018</th>\n",
              "      <td>30.101010</td>\n",
              "      <td>0.0</td>\n",
              "      <td>22.346369</td>\n",
              "      <td>15.277778</td>\n",
              "      <td>0.000000</td>\n",
              "      <td>54.976303</td>\n",
              "      <td>74.882629</td>\n",
              "      <td>25.494761</td>\n",
              "      <td>0.000000</td>\n",
              "      <td>0.000000</td>\n",
              "      <td>23.728814</td>\n",
              "      <td>-100.000000</td>\n",
              "      <td>26.323529</td>\n",
              "      <td>0.0</td>\n",
              "      <td>-11.000000</td>\n",
              "      <td>64.388489</td>\n",
              "      <td>25.494761</td>\n",
              "      <td>0.0</td>\n",
              "      <td>-18.000000</td>\n",
              "      <td>-1.649685</td>\n",
              "      <td>2</td>\n",
              "      <td>0.000000e+00</td>\n",
              "      <td>0.0</td>\n",
              "      <td>25.462012</td>\n",
              "      <td>-1.649685</td>\n",
              "      <td>23.728814</td>\n",
              "    </tr>\n",
              "  </tbody>\n",
              "</table>\n",
              "<p>1464 rows × 26 columns</p>\n",
              "</div>"
            ],
            "text/plain": [
              "      Long-Term Debt  ...  Common Equity (Total)\n",
              "Year                  ...                       \n",
              "2016       21.818182  ...              -9.886264\n",
              "2017       13.432836  ...              12.233010\n",
              "2018       10.937500  ...             -15.224913\n",
              "2016      252.299830  ...              -3.158887\n",
              "2017       31.576402  ...              50.438169\n",
              "...              ...  ...                    ...\n",
              "2017        0.198828  ...               2.745665\n",
              "2018       89.033943  ...              -1.406470\n",
              "2016        0.224215  ...              39.252336\n",
              "2017       10.738255  ...              18.791946\n",
              "2018       30.101010  ...              23.728814\n",
              "\n",
              "[1464 rows x 26 columns]"
            ]
          },
          "metadata": {},
          "execution_count": 10
        }
      ]
    },
    {
      "cell_type": "code",
      "metadata": {
        "id": "Gk9-A1m4GLBW"
      },
      "source": [
        "#Splitting into target and independent variables\n",
        "target = df['Target']\n",
        "df.drop(['Target'], axis=1, inplace=True)"
      ],
      "execution_count": 14,
      "outputs": []
    },
    {
      "cell_type": "markdown",
      "metadata": {
        "id": "GbrQ2hBuFglX"
      },
      "source": [
        "Feature Selection"
      ]
    },
    {
      "cell_type": "code",
      "metadata": {
        "colab": {
          "base_uri": "https://localhost:8080/"
        },
        "id": "BvABnFFyFbXc",
        "outputId": "c8ac6e93-74da-4bf3-e6bd-0bbf6b66db2f"
      },
      "source": [
        "forest = ExtraTreesClassifier(n_estimators=200)\n",
        "%timeit forest.fit(df,target)"
      ],
      "execution_count": 15,
      "outputs": [
        {
          "output_type": "stream",
          "name": "stdout",
          "text": [
            "1 loop, best of 5: 747 ms per loop\n"
          ]
        }
      ]
    },
    {
      "cell_type": "code",
      "metadata": {
        "id": "wSp5Dp61F55f"
      },
      "source": [
        "#determining the important features\n",
        "importances = forest.feature_importances_\n",
        "\n",
        "#standard deviation among the trees for the important features\n",
        "std = np.std([i.feature_importances_ for i in forest.estimators_], axis=0)\n",
        "\n",
        "#indexing and sorting the important features\n",
        "indices = np.argsort(importances)[::-1]"
      ],
      "execution_count": 17,
      "outputs": []
    },
    {
      "cell_type": "code",
      "metadata": {
        "colab": {
          "base_uri": "https://localhost:8080/"
        },
        "id": "gYhOogzyHaku",
        "outputId": "1bc960ef-8482-42ce-b49c-606b64b4adf5"
      },
      "source": [
        "indices"
      ],
      "execution_count": 18,
      "outputs": [
        {
          "output_type": "execute_result",
          "data": {
            "text/plain": [
              "array([20,  5, 12,  3, 16,  7, 15,  0, 11, 14,  6,  2, 22, 10, 24, 18, 19,\n",
              "       23,  4,  9,  8, 13, 17, 21,  1])"
            ]
          },
          "metadata": {},
          "execution_count": 18
        }
      ]
    },
    {
      "cell_type": "code",
      "metadata": {
        "colab": {
          "base_uri": "https://localhost:8080/",
          "height": 1000
        },
        "id": "iDA7neCoHbvG",
        "outputId": "45d10800-3189-40c5-b4d5-bfbe75f3b137"
      },
      "source": [
        "plt.style.use('seaborn')\n",
        "\n",
        "print(\"Feature Rankings:\")\n",
        "ls = []\n",
        "\n",
        "#printing top 20 features\n",
        "for i in range(20):\n",
        "  print(f\"{i+1}. {df.columns[indices[i]]}: {importances[indices[i]]}\")\n",
        "  ls.append(df.columns[indices[i]])\n",
        "\n",
        "#plotting top 20 features\n",
        "plt.figure(figsize=(14,7))\n",
        "plt.title(\"Feature Importances for the Dataset\")\n",
        "plt.bar(range(df.shape[1]), importances[indices], yerr=std[indices], align='center')\n",
        "plt.xticks(range(df.shape[1]), df.columns[indices], rotation=90)\n",
        "plt.show()"
      ],
      "execution_count": 20,
      "outputs": [
        {
          "output_type": "stream",
          "name": "stdout",
          "text": [
            "Feature Rankings:\n",
            "1. Short Term Debt: 0.05451174147457667\n",
            "2. Retained Earnings: 0.053258342765940464\n",
            "3. Total Liabilities: 0.05275755508410762\n",
            "4. Net Property, Plant & Equipment: 0.051896242230248454\n",
            "5. Liabilities & Shareholders' Equity: 0.051707915511511666\n",
            "6. Total Assets: 0.051649741585095305\n",
            "7. Intangible Assets: 0.05161187289566937\n",
            "8. Long-Term Debt: 0.05120873558424413\n",
            "9. Accumulated Minority Interest: 0.04858001093854108\n",
            "10. Other Liabilities: 0.04692083567670381\n",
            "11. Treasury Stock: 0.046047534655385726\n",
            "12. Total Equity: 0.04600914410092553\n",
            "13. Cumulative Translation Adjustment/Unrealized For. Exch. Gain: 0.04590148168686102\n",
            "14. Total Shareholders' Equity: 0.0447939677910302\n",
            "15. Common Equity (Total): 0.044255603137247974\n",
            "16. Other Liabilities (excl. Deferred Income): 0.043552366442290234\n",
            "17. Total Shareholders' Equity / Total Assets: 0.04305893486063308\n",
            "18. Common Equity / Total Assets: 0.04226183940841188\n",
            "19. Capitalized Lease Obligations: 0.042021040157470865\n",
            "20. Common Stock Par/Carry Value: 0.041306399434680695\n"
          ]
        },
        {
          "output_type": "display_data",
          "data": {
            "image/png": "[encoded data removed]",
            "text/plain": [
              "<Figure size 1008x504 with 1 Axes>"
            ]
          },
          "metadata": {}
        }
      ]
    },
    {
      "cell_type": "code",
      "metadata": {
        "id": "F3fy6OjQHio2"
      },
      "source": [
        "top20_df = df[ls]"
      ],
      "execution_count": 21,
      "outputs": []
    },
    {
      "cell_type": "code",
      "metadata": {
        "colab": {
          "base_uri": "https://localhost:8080/"
        },
        "id": "fgyGRnT6JJhP",
        "outputId": "b9c6a4ac-8bf9-4509-e439-980e344f66b8"
      },
      "source": [
        "top20_df['Target'] = target"
      ],
      "execution_count": 22,
      "outputs": [
        {
          "output_type": "stream",
          "name": "stderr",
          "text": [
            "/usr/local/lib/python3.7/dist-packages/ipykernel_launcher.py:1: SettingWithCopyWarning: \n",
            "A value is trying to be set on a copy of a slice from a DataFrame.\n",
            "Try using .loc[row_indexer,col_indexer] = value instead\n",
            "\n",
            "See the caveats in the documentation: https://pandas.pydata.org/pandas-docs/stable/user_guide/indexing.html#returning-a-view-versus-a-copy\n",
            "  \"\"\"Entry point for launching an IPython kernel.\n"
          ]
        }
      ]
    },
    {
      "cell_type": "code",
      "metadata": {
        "colab": {
          "base_uri": "https://localhost:8080/",
          "height": 323
        },
        "id": "DqvyhBbrJPUW",
        "outputId": "61b0e834-28be-4a53-a0cd-727533682565"
      },
      "source": [
        "top20_df.head()"
      ],
      "execution_count": 23,
      "outputs": [
        {
          "output_type": "execute_result",
          "data": {
            "text/html": [
              "<div>\n",
              "<style scoped>\n",
              "    .dataframe tbody tr th:only-of-type {\n",
              "        vertical-align: middle;\n",
              "    }\n",
              "\n",
              "    .dataframe tbody tr th {\n",
              "        vertical-align: top;\n",
              "    }\n",
              "\n",
              "    .dataframe thead th {\n",
              "        text-align: right;\n",
              "    }\n",
              "</style>\n",
              "<table border=\"1\" class=\"dataframe\">\n",
              "  <thead>\n",
              "    <tr style=\"text-align: right;\">\n",
              "      <th></th>\n",
              "      <th>Short Term Debt</th>\n",
              "      <th>Retained Earnings</th>\n",
              "      <th>Total Liabilities</th>\n",
              "      <th>Net Property, Plant &amp; Equipment</th>\n",
              "      <th>Liabilities &amp; Shareholders' Equity</th>\n",
              "      <th>Total Assets</th>\n",
              "      <th>Intangible Assets</th>\n",
              "      <th>Long-Term Debt</th>\n",
              "      <th>Accumulated Minority Interest</th>\n",
              "      <th>Other Liabilities</th>\n",
              "      <th>Treasury Stock</th>\n",
              "      <th>Total Equity</th>\n",
              "      <th>Cumulative Translation Adjustment/Unrealized For. Exch. Gain</th>\n",
              "      <th>Total Shareholders' Equity</th>\n",
              "      <th>Common Equity (Total)</th>\n",
              "      <th>Other Liabilities (excl. Deferred Income)</th>\n",
              "      <th>Total Shareholders' Equity / Total Assets</th>\n",
              "      <th>Common Equity / Total Assets</th>\n",
              "      <th>Capitalized Lease Obligations</th>\n",
              "      <th>Common Stock Par/Carry Value</th>\n",
              "      <th>Target</th>\n",
              "    </tr>\n",
              "    <tr>\n",
              "      <th>Year</th>\n",
              "      <th></th>\n",
              "      <th></th>\n",
              "      <th></th>\n",
              "      <th></th>\n",
              "      <th></th>\n",
              "      <th></th>\n",
              "      <th></th>\n",
              "      <th></th>\n",
              "      <th></th>\n",
              "      <th></th>\n",
              "      <th></th>\n",
              "      <th></th>\n",
              "      <th></th>\n",
              "      <th></th>\n",
              "      <th></th>\n",
              "      <th></th>\n",
              "      <th></th>\n",
              "      <th></th>\n",
              "      <th></th>\n",
              "      <th></th>\n",
              "      <th></th>\n",
              "    </tr>\n",
              "  </thead>\n",
              "  <tbody>\n",
              "    <tr>\n",
              "      <th>2016</th>\n",
              "      <td>-91.568627</td>\n",
              "      <td>4.435262</td>\n",
              "      <td>5.322129</td>\n",
              "      <td>0.000000</td>\n",
              "      <td>0.091241</td>\n",
              "      <td>0.091241</td>\n",
              "      <td>-3.037975</td>\n",
              "      <td>21.818182</td>\n",
              "      <td>15.384615</td>\n",
              "      <td>2.564103</td>\n",
              "      <td>9.094809</td>\n",
              "      <td>-9.851787</td>\n",
              "      <td>19.642857</td>\n",
              "      <td>-9.886264</td>\n",
              "      <td>-9.886264</td>\n",
              "      <td>3.478261</td>\n",
              "      <td>-9.953970</td>\n",
              "      <td>-9.953970</td>\n",
              "      <td>-2.173913</td>\n",
              "      <td>0.000000</td>\n",
              "      <td>2</td>\n",
              "    </tr>\n",
              "    <tr>\n",
              "      <th>2017</th>\n",
              "      <td>336.627907</td>\n",
              "      <td>3.191770</td>\n",
              "      <td>16.888298</td>\n",
              "      <td>4.107981</td>\n",
              "      <td>15.436038</td>\n",
              "      <td>15.436038</td>\n",
              "      <td>17.058312</td>\n",
              "      <td>13.432836</td>\n",
              "      <td>31.111111</td>\n",
              "      <td>95.833333</td>\n",
              "      <td>1.808887</td>\n",
              "      <td>12.379110</td>\n",
              "      <td>-18.407960</td>\n",
              "      <td>12.233010</td>\n",
              "      <td>12.233010</td>\n",
              "      <td>97.478992</td>\n",
              "      <td>-2.747604</td>\n",
              "      <td>-2.747604</td>\n",
              "      <td>33.333333</td>\n",
              "      <td>0.000000</td>\n",
              "      <td>1</td>\n",
              "    </tr>\n",
              "    <tr>\n",
              "      <th>2018</th>\n",
              "      <td>-37.949401</td>\n",
              "      <td>3.885481</td>\n",
              "      <td>1.061813</td>\n",
              "      <td>-1.465614</td>\n",
              "      <td>-3.922085</td>\n",
              "      <td>-3.922085</td>\n",
              "      <td>-5.501859</td>\n",
              "      <td>10.937500</td>\n",
              "      <td>-11.864407</td>\n",
              "      <td>0.425532</td>\n",
              "      <td>14.445732</td>\n",
              "      <td>-15.232358</td>\n",
              "      <td>28.048780</td>\n",
              "      <td>-15.224913</td>\n",
              "      <td>-15.224913</td>\n",
              "      <td>0.425532</td>\n",
              "      <td>-11.826544</td>\n",
              "      <td>-11.826544</td>\n",
              "      <td>25.000000</td>\n",
              "      <td>0.000000</td>\n",
              "      <td>0</td>\n",
              "    </tr>\n",
              "    <tr>\n",
              "      <th>2016</th>\n",
              "      <td>-57.827476</td>\n",
              "      <td>-0.737578</td>\n",
              "      <td>51.190476</td>\n",
              "      <td>-0.349040</td>\n",
              "      <td>25.022727</td>\n",
              "      <td>25.022727</td>\n",
              "      <td>-19.605263</td>\n",
              "      <td>252.299830</td>\n",
              "      <td>55.652174</td>\n",
              "      <td>26.229508</td>\n",
              "      <td>1.600753</td>\n",
              "      <td>-2.859822</td>\n",
              "      <td>2.691511</td>\n",
              "      <td>-3.158887</td>\n",
              "      <td>-3.158887</td>\n",
              "      <td>26.229508</td>\n",
              "      <td>-22.567932</td>\n",
              "      <td>-22.567932</td>\n",
              "      <td>0.000000</td>\n",
              "      <td>2.356638</td>\n",
              "      <td>2</td>\n",
              "    </tr>\n",
              "    <tr>\n",
              "      <th>2017</th>\n",
              "      <td>-84.393939</td>\n",
              "      <td>-6.218224</td>\n",
              "      <td>31.671041</td>\n",
              "      <td>33.274956</td>\n",
              "      <td>38.611162</td>\n",
              "      <td>38.611162</td>\n",
              "      <td>272.258592</td>\n",
              "      <td>31.576402</td>\n",
              "      <td>12.290503</td>\n",
              "      <td>184.415584</td>\n",
              "      <td>-5.189991</td>\n",
              "      <td>50.096525</td>\n",
              "      <td>-30.443548</td>\n",
              "      <td>50.438169</td>\n",
              "      <td>50.438169</td>\n",
              "      <td>184.415584</td>\n",
              "      <td>8.545406</td>\n",
              "      <td>8.545406</td>\n",
              "      <td>0.000000</td>\n",
              "      <td>78.127398</td>\n",
              "      <td>2</td>\n",
              "    </tr>\n",
              "  </tbody>\n",
              "</table>\n",
              "</div>"
            ],
            "text/plain": [
              "      Short Term Debt  Retained Earnings  ...  Common Stock Par/Carry Value  Target\n",
              "Year                                      ...                                      \n",
              "2016       -91.568627           4.435262  ...                      0.000000       2\n",
              "2017       336.627907           3.191770  ...                      0.000000       1\n",
              "2018       -37.949401           3.885481  ...                      0.000000       0\n",
              "2016       -57.827476          -0.737578  ...                      2.356638       2\n",
              "2017       -84.393939          -6.218224  ...                     78.127398       2\n",
              "\n",
              "[5 rows x 21 columns]"
            ]
          },
          "metadata": {},
          "execution_count": 23
        }
      ]
    },
    {
      "cell_type": "code",
      "metadata": {
        "id": "6jyaBAP-JSZE"
      },
      "source": [
        "X = top20_df.drop([\"Target\"],1)\n",
        "y = top20_df.Target"
      ],
      "execution_count": 24,
      "outputs": []
    },
    {
      "cell_type": "markdown",
      "metadata": {
        "id": "7loAigoHJdmZ"
      },
      "source": [
        "Splitting into train and test set"
      ]
    },
    {
      "cell_type": "code",
      "metadata": {
        "id": "0wD3RdMFJc3m"
      },
      "source": [
        "X_train, X_test, y_train, y_test = train_test_split(X,y, test_size = 0.2)"
      ],
      "execution_count": 26,
      "outputs": []
    },
    {
      "cell_type": "markdown",
      "metadata": {
        "id": "ajEoGUnmQ71B"
      },
      "source": [
        "Classification"
      ]
    },
    {
      "cell_type": "code",
      "metadata": {
        "id": "FOz1PnYlQ6zj"
      },
      "source": [
        "#Adaboost Classifier\n",
        "pipe_ada = Pipeline([('scale',StandardScaler()), ('clf', AdaBoostClassifier())])\n",
        "\n",
        "#Gradient Boost\n",
        "pipe_gb = Pipeline([('scale',StandardScaler()), ('clf', GradientBoostingClassifier())])\n",
        "\n",
        "#Random Forest\n",
        "pipe_rf = Pipeline([('scale',StandardScaler()), ('clf', RandomForestClassifier())])\n",
        "\n",
        "#Decision Tree\n",
        "pipe_dt = Pipeline([('scale',StandardScaler()), ('clf', DecisionTreeClassifier())])\n",
        "\n",
        "#Dummy (Baseline)\n",
        "pipe_dum = Pipeline([('scale',StandardScaler()), ('clf', DummyClassifier())])\n",
        "\n",
        "#K Nearest Neighbours\n",
        "pipe_knn = Pipeline([('scale',StandardScaler()), ('clf', KNeighborsClassifier())])\n",
        "\n",
        "#Logistic Regression\n",
        "pipe_lr = Pipeline([('scale',StandardScaler()), ('clf', LogisticRegression())])\n",
        "\n",
        "#Naive Bayes\n",
        "pipe_nb = Pipeline([('scale',StandardScaler()), ('clf', GaussianNB())])\n",
        "\n",
        "#Support Vector Machine\n",
        "pipe_svm = Pipeline([('scale',StandardScaler()), ('clf', SVC())])\n",
        "\n",
        "#XGBoost\n",
        "pipe_xgb = Pipeline([('scale',StandardScaler()), ('clf', XGBClassifier())])"
      ],
      "execution_count": 28,
      "outputs": []
    },
    {
      "cell_type": "code",
      "metadata": {
        "id": "DxQI5EeaTtCu"
      },
      "source": [
        "pipelines = [pipe_ada, pipe_gb, pipe_rf, pipe_dt, pipe_dum,\n",
        "             pipe_knn, pipe_lr, pipe_nb, pipe_svm, pipe_xgb]\n",
        "\n",
        "models = ['Adaboost',\n",
        "          'GradientBoost',\n",
        "          'RandomForest',\n",
        "          'DecisionTree',\n",
        "          'Dummy(Baseline)',\n",
        "          'KNN',\n",
        "          'LogisticRegression',\n",
        "          'NaiveBayes',\n",
        "          'SupportVectorMachine',\n",
        "          'XGBoost']\n",
        "\n",
        "model_pipelines = dict(zip(models, pipelines))"
      ],
      "execution_count": 29,
      "outputs": []
    },
    {
      "cell_type": "code",
      "metadata": {
        "colab": {
          "base_uri": "https://localhost:8080/"
        },
        "id": "XPG7RRFhUkbZ",
        "outputId": "a127f1b0-2974-4917-a151-d8bb7b74a231"
      },
      "source": [
        "#Training of models\n",
        "for name,pipe in model_pipelines.items():\n",
        "  print(pipe)\n",
        "  pipe.fit(X_train, y_train)"
      ],
      "execution_count": 31,
      "outputs": [
        {
          "output_type": "stream",
          "name": "stdout",
          "text": [
            "Pipeline(memory=None,\n",
            "         steps=[('scale',\n",
            "                 StandardScaler(copy=True, with_mean=True, with_std=True)),\n",
            "                ('clf',\n",
            "                 AdaBoostClassifier(algorithm='SAMME.R', base_estimator=None,\n",
            "                                    learning_rate=1.0, n_estimators=50,\n",
            "                                    random_state=None))],\n",
            "         verbose=False)\n",
            "Pipeline(memory=None,\n",
            "         steps=[('scale',\n",
            "                 StandardScaler(copy=True, with_mean=True, with_std=True)),\n",
            "                ('clf',\n",
            "                 GradientBoostingClassifier(ccp_alpha=0.0,\n",
            "                                            criterion='friedman_mse', init=None,\n",
            "                                            learning_rate=0.1, loss='deviance',\n",
            "                                            max_depth=3, max_features=None,\n",
            "                                            max_leaf_nodes=None,\n",
            "                                            min_impurity_decrease=0.0,\n",
            "                                            min_impurity_split=None,\n",
            "                                            min_samples_leaf=1,\n",
            "                                            min_samples_split=2,\n",
            "                                            min_weight_fraction_leaf=0.0,\n",
            "                                            n_estimators=100,\n",
            "                                            n_iter_no_change=None,\n",
            "                                            presort='deprecated',\n",
            "                                            random_state=None, subsample=1.0,\n",
            "                                            tol=0.0001, validation_fraction=0.1,\n",
            "                                            verbose=0, warm_start=False))],\n",
            "         verbose=False)\n",
            "Pipeline(memory=None,\n",
            "         steps=[('scale',\n",
            "                 StandardScaler(copy=True, with_mean=True, with_std=True)),\n",
            "                ('clf',\n",
            "                 RandomForestClassifier(bootstrap=True, ccp_alpha=0.0,\n",
            "                                        class_weight=None, criterion='gini',\n",
            "                                        max_depth=None, max_features='auto',\n",
            "                                        max_leaf_nodes=None, max_samples=None,\n",
            "                                        min_impurity_decrease=0.0,\n",
            "                                        min_impurity_split=None,\n",
            "                                        min_samples_leaf=1, min_samples_split=2,\n",
            "                                        min_weight_fraction_leaf=0.0,\n",
            "                                        n_estimators=100, n_jobs=None,\n",
            "                                        oob_score=False, random_state=None,\n",
            "                                        verbose=0, warm_start=False))],\n",
            "         verbose=False)\n",
            "Pipeline(memory=None,\n",
            "         steps=[('scale',\n",
            "                 StandardScaler(copy=True, with_mean=True, with_std=True)),\n",
            "                ('clf',\n",
            "                 DecisionTreeClassifier(ccp_alpha=0.0, class_weight=None,\n",
            "                                        criterion='gini', max_depth=None,\n",
            "                                        max_features=None, max_leaf_nodes=None,\n",
            "                                        min_impurity_decrease=0.0,\n",
            "                                        min_impurity_split=None,\n",
            "                                        min_samples_leaf=1, min_samples_split=2,\n",
            "                                        min_weight_fraction_leaf=0.0,\n",
            "                                        presort='deprecated', random_state=None,\n",
            "                                        splitter='best'))],\n",
            "         verbose=False)\n",
            "Pipeline(memory=None,\n",
            "         steps=[('scale',\n",
            "                 StandardScaler(copy=True, with_mean=True, with_std=True)),\n",
            "                ('clf',\n",
            "                 DummyClassifier(constant=None, random_state=None,\n",
            "                                 strategy='warn'))],\n",
            "         verbose=False)\n",
            "Pipeline(memory=None,\n",
            "         steps=[('scale',\n",
            "                 StandardScaler(copy=True, with_mean=True, with_std=True)),\n",
            "                ('clf',\n",
            "                 KNeighborsClassifier(algorithm='auto', leaf_size=30,\n",
            "                                      metric='minkowski', metric_params=None,\n",
            "                                      n_jobs=None, n_neighbors=5, p=2,\n",
            "                                      weights='uniform'))],\n",
            "         verbose=False)\n",
            "Pipeline(memory=None,\n",
            "         steps=[('scale',\n",
            "                 StandardScaler(copy=True, with_mean=True, with_std=True)),\n",
            "                ('clf',\n",
            "                 LogisticRegression(C=1.0, class_weight=None, dual=False,\n",
            "                                    fit_intercept=True, intercept_scaling=1,\n",
            "                                    l1_ratio=None, max_iter=100,\n",
            "                                    multi_class='auto', n_jobs=None,\n",
            "                                    penalty='l2', random_state=None,\n",
            "                                    solver='lbfgs', tol=0.0001, verbose=0,\n",
            "                                    warm_start=False))],\n",
            "         verbose=False)\n",
            "Pipeline(memory=None,\n",
            "         steps=[('scale',\n",
            "                 StandardScaler(copy=True, with_mean=True, with_std=True)),\n",
            "                ('clf', GaussianNB(priors=None, var_smoothing=1e-09))],\n",
            "         verbose=False)\n",
            "Pipeline(memory=None,\n",
            "         steps=[('scale',\n",
            "                 StandardScaler(copy=True, with_mean=True, with_std=True)),\n",
            "                ('clf',\n",
            "                 SVC(C=1.0, break_ties=False, cache_size=200, class_weight=None,\n",
            "                     coef0=0.0, decision_function_shape='ovr', degree=3,\n",
            "                     gamma='scale', kernel='rbf', max_iter=-1,\n",
            "                     probability=False, random_state=None, shrinking=True,\n",
            "                     tol=0.001, verbose=False))],\n",
            "         verbose=False)\n"
          ]
        },
        {
          "output_type": "stream",
          "name": "stderr",
          "text": [
            "/usr/local/lib/python3.7/dist-packages/sklearn/dummy.py:132: FutureWarning: The default value of strategy will change from stratified to prior in 0.24.\n",
            "  \"stratified to prior in 0.24.\", FutureWarning)\n"
          ]
        },
        {
          "output_type": "stream",
          "name": "stdout",
          "text": [
            "Pipeline(memory=None,\n",
            "         steps=[('scale',\n",
            "                 StandardScaler(copy=True, with_mean=True, with_std=True)),\n",
            "                ('clf',\n",
            "                 XGBClassifier(base_score=0.5, booster='gbtree',\n",
            "                               colsample_bylevel=1, colsample_bynode=1,\n",
            "                               colsample_bytree=1, gamma=0, learning_rate=0.1,\n",
            "                               max_delta_step=0, max_depth=3,\n",
            "                               min_child_weight=1, missing=None,\n",
            "                               n_estimators=100, n_jobs=1, nthread=None,\n",
            "                               objective='binary:logistic', random_state=0,\n",
            "                               reg_alpha=0, reg_lambda=1, scale_pos_weight=1,\n",
            "                               seed=None, silent=None, subsample=1,\n",
            "                               verbosity=1))],\n",
            "         verbose=False)\n"
          ]
        }
      ]
    },
    {
      "cell_type": "markdown",
      "metadata": {
        "id": "M2YF9FCdU393"
      },
      "source": [
        "Evaluating the models"
      ]
    },
    {
      "cell_type": "code",
      "metadata": {
        "colab": {
          "base_uri": "https://localhost:8080/"
        },
        "id": "tqKySS61UnU0",
        "outputId": "85be2811-07ac-4354-8dd3-fb697aac55f2"
      },
      "source": [
        "models_f1 = {}\n",
        "models_acc = {}\n",
        "\n",
        "#looping through each model and getting their performance\n",
        "for name, pipe in model_pipelines.items():\n",
        "  print('\\n' + name + ' F1 score:')\n",
        "\n",
        "  #classification report\n",
        "  report = classification_report(y_test, pipe.predict(X_test), target_names=['Sell','Buy','Hold'], output_dict=True)\n",
        "  f1 = report['macro avg']['f1-score']\n",
        "  acc = accuracy_score(y_test, pipe.predict(X_test))\n",
        "  #assigning it to dictionary\n",
        "  models_f1[name] = f1\n",
        "  models_acc[name] = acc\n",
        "\n",
        "  print(f1)\n",
        "  print(acc)"
      ],
      "execution_count": 32,
      "outputs": [
        {
          "output_type": "stream",
          "name": "stdout",
          "text": [
            "\n",
            "Adaboost F1 score:\n",
            "0.3143420807151392\n",
            "0.5187713310580204\n",
            "\n",
            "GradientBoost F1 score:\n",
            "0.3400185158376539\n",
            "0.5324232081911263\n",
            "\n",
            "RandomForest F1 score:\n",
            "0.34586176727909007\n",
            "0.5221843003412969\n",
            "\n",
            "DecisionTree F1 score:\n",
            "0.35513547888325\n",
            "0.45733788395904434\n",
            "\n",
            "Dummy(Baseline) F1 score:\n",
            "0.3249069043257376\n",
            "0.45051194539249145\n",
            "\n",
            "KNN F1 score:\n",
            "0.33645595200929196\n",
            "0.4948805460750853\n",
            "\n",
            "LogisticRegression F1 score:\n",
            "0.24885713503599685\n",
            "0.552901023890785\n",
            "\n",
            "NaiveBayes F1 score:\n",
            "0.09744980969813184\n",
            "0.11604095563139932\n",
            "\n",
            "SupportVectorMachine F1 score:\n",
            "0.2519325076884715\n",
            "0.5631399317406144\n",
            "\n",
            "XGBoost F1 score:\n",
            "0.3558681318681319\n",
            "0.552901023890785\n"
          ]
        },
        {
          "output_type": "stream",
          "name": "stderr",
          "text": [
            "/usr/local/lib/python3.7/dist-packages/sklearn/metrics/_classification.py:1272: UndefinedMetricWarning: Precision and F-score are ill-defined and being set to 0.0 in labels with no predicted samples. Use `zero_division` parameter to control this behavior.\n",
            "  _warn_prf(average, modifier, msg_start, len(result))\n"
          ]
        }
      ]
    },
    {
      "cell_type": "code",
      "metadata": {
        "colab": {
          "base_uri": "https://localhost:8080/"
        },
        "id": "TfFZjsX-ZPs2",
        "outputId": "3bc3499e-7ef5-4b54-a879-f392afce03c7"
      },
      "source": [
        "#finding top 3 models\n",
        "for i in sorted(models_f1, key=models_f1.get, reverse=True)[:3]:\n",
        "  print(i, models_f1[i], models_acc[i])"
      ],
      "execution_count": 33,
      "outputs": [
        {
          "output_type": "stream",
          "name": "stdout",
          "text": [
            "XGBoost 0.3558681318681319 0.552901023890785\n",
            "DecisionTree 0.35513547888325 0.45733788395904434\n",
            "RandomForest 0.34586176727909007 0.5221843003412969\n"
          ]
        }
      ]
    },
    {
      "cell_type": "code",
      "metadata": {
        "colab": {
          "base_uri": "https://localhost:8080/"
        },
        "id": "ijevZOd1ZozP",
        "outputId": "598149f5-e438-4cfc-b47f-a7f303cde5f7"
      },
      "source": [
        "test_one_quarter = X_test.iloc[-1]\n",
        "test_one_quarter"
      ],
      "execution_count": 34,
      "outputs": [
        {
          "output_type": "execute_result",
          "data": {
            "text/plain": [
              "Short Term Debt                                                   0.000000\n",
              "Retained Earnings                                                46.078431\n",
              "Total Liabilities                                                 8.839779\n",
              "Net Property, Plant & Equipment                                 108.156059\n",
              "Liabilities & Shareholders' Equity                               15.989160\n",
              "Total Assets                                                     15.989160\n",
              "Intangible Assets                                                -0.970874\n",
              "Long-Term Debt                                                    2.941176\n",
              "Accumulated Minority Interest                                   259.293395\n",
              "Other Liabilities                                                18.530829\n",
              "Treasury Stock                                                   20.958084\n",
              "Total Equity                                                     22.872340\n",
              "Cumulative Translation Adjustment/Unrealized For. Exch. Gain      0.000000\n",
              "Total Shareholders' Equity                                       18.918919\n",
              "Common Equity (Total)                                            18.918919\n",
              "Other Liabilities (excl. Deferred Income)                        18.530829\n",
              "Total Shareholders' Equity / Total Assets                         2.393776\n",
              "Common Equity / Total Assets                                      2.393776\n",
              "Capitalized Lease Obligations                                     0.000000\n",
              "Common Stock Par/Carry Value                                      1.612903\n",
              "Name: 2016, dtype: float64"
            ]
          },
          "metadata": {},
          "execution_count": 34
        }
      ]
    },
    {
      "cell_type": "code",
      "metadata": {
        "id": "4oXMHtJ1Z2zu"
      },
      "source": [
        "scaler = StandardScaler()\n",
        "scaled_df = pd.DataFrame(scaler.fit_transform(top20_df), index=top20_df.index, columns=top20_df.columns)\n",
        "one_report = scaled_df.tail(1)"
      ],
      "execution_count": 35,
      "outputs": []
    },
    {
      "cell_type": "markdown",
      "metadata": {
        "id": "SkMpkTCPaTCX"
      },
      "source": [
        "Plot a pie chart of probability of a holding"
      ]
    },
    {
      "cell_type": "code",
      "metadata": {
        "id": "p5P7wAFhaO9k"
      },
      "source": [
        "def pie_stock(pred):\n",
        "  plt.rcParams['font.size'] = 30.0\n",
        "  plt.style.use('bmh')\n",
        "  plt.figure(figsize=(10,10))\n",
        "  plt.pie(pred[0], labels=['SELL','HOLD','BUY'], \n",
        "          shadow=True, \n",
        "          explode=(.05,.05,.05), \n",
        "          autopct='%1.1f%%',\n",
        "          textprops={'fontsize':30})\n",
        "  plt.axis('equal')\n",
        "  plt.tight_layout()\n",
        "  plt.show()"
      ],
      "execution_count": 40,
      "outputs": []
    },
    {
      "cell_type": "code",
      "metadata": {
        "colab": {
          "base_uri": "https://localhost:8080/"
        },
        "id": "LNHwxyy3bf1i",
        "outputId": "1d2a5a8d-7929-47a7-e23d-ef8e765c90e0"
      },
      "source": [
        "xgboost = XGBClassifier()\n",
        "xgboost.fit(X_train, y_train)"
      ],
      "execution_count": 37,
      "outputs": [
        {
          "output_type": "execute_result",
          "data": {
            "text/plain": [
              "XGBClassifier(base_score=0.5, booster='gbtree', colsample_bylevel=1,\n",
              "              colsample_bynode=1, colsample_bytree=1, gamma=0,\n",
              "              learning_rate=0.1, max_delta_step=0, max_depth=3,\n",
              "              min_child_weight=1, missing=None, n_estimators=100, n_jobs=1,\n",
              "              nthread=None, objective='multi:softprob', random_state=0,\n",
              "              reg_alpha=0, reg_lambda=1, scale_pos_weight=1, seed=None,\n",
              "              silent=None, subsample=1, verbosity=1)"
            ]
          },
          "metadata": {},
          "execution_count": 37
        }
      ]
    },
    {
      "cell_type": "code",
      "metadata": {
        "colab": {
          "base_uri": "https://localhost:8080/",
          "height": 199
        },
        "id": "lWd7VaBQboa_",
        "outputId": "a67c1b55-bbec-4d76-c07c-477eb0bff915"
      },
      "source": [
        "one_report = one_report.drop(['Target'], axis=1)\n",
        "one_report"
      ],
      "execution_count": 38,
      "outputs": [
        {
          "output_type": "execute_result",
          "data": {
            "text/html": [
              "<div>\n",
              "<style scoped>\n",
              "    .dataframe tbody tr th:only-of-type {\n",
              "        vertical-align: middle;\n",
              "    }\n",
              "\n",
              "    .dataframe tbody tr th {\n",
              "        vertical-align: top;\n",
              "    }\n",
              "\n",
              "    .dataframe thead th {\n",
              "        text-align: right;\n",
              "    }\n",
              "</style>\n",
              "<table border=\"1\" class=\"dataframe\">\n",
              "  <thead>\n",
              "    <tr style=\"text-align: right;\">\n",
              "      <th></th>\n",
              "      <th>Short Term Debt</th>\n",
              "      <th>Retained Earnings</th>\n",
              "      <th>Total Liabilities</th>\n",
              "      <th>Net Property, Plant &amp; Equipment</th>\n",
              "      <th>Liabilities &amp; Shareholders' Equity</th>\n",
              "      <th>Total Assets</th>\n",
              "      <th>Intangible Assets</th>\n",
              "      <th>Long-Term Debt</th>\n",
              "      <th>Accumulated Minority Interest</th>\n",
              "      <th>Other Liabilities</th>\n",
              "      <th>Treasury Stock</th>\n",
              "      <th>Total Equity</th>\n",
              "      <th>Cumulative Translation Adjustment/Unrealized For. Exch. Gain</th>\n",
              "      <th>Total Shareholders' Equity</th>\n",
              "      <th>Common Equity (Total)</th>\n",
              "      <th>Other Liabilities (excl. Deferred Income)</th>\n",
              "      <th>Total Shareholders' Equity / Total Assets</th>\n",
              "      <th>Common Equity / Total Assets</th>\n",
              "      <th>Capitalized Lease Obligations</th>\n",
              "      <th>Common Stock Par/Carry Value</th>\n",
              "    </tr>\n",
              "    <tr>\n",
              "      <th>Year</th>\n",
              "      <th></th>\n",
              "      <th></th>\n",
              "      <th></th>\n",
              "      <th></th>\n",
              "      <th></th>\n",
              "      <th></th>\n",
              "      <th></th>\n",
              "      <th></th>\n",
              "      <th></th>\n",
              "      <th></th>\n",
              "      <th></th>\n",
              "      <th></th>\n",
              "      <th></th>\n",
              "      <th></th>\n",
              "      <th></th>\n",
              "      <th></th>\n",
              "      <th></th>\n",
              "      <th></th>\n",
              "      <th></th>\n",
              "      <th></th>\n",
              "    </tr>\n",
              "  </thead>\n",
              "  <tbody>\n",
              "    <tr>\n",
              "      <th>2018</th>\n",
              "      <td>-0.109433</td>\n",
              "      <td>-0.032343</td>\n",
              "      <td>-0.026144</td>\n",
              "      <td>-0.071835</td>\n",
              "      <td>-0.026144</td>\n",
              "      <td>-0.026144</td>\n",
              "      <td>-0.038004</td>\n",
              "      <td>-0.060818</td>\n",
              "      <td>-0.037243</td>\n",
              "      <td>-0.027824</td>\n",
              "      <td>-0.036132</td>\n",
              "      <td>-0.026145</td>\n",
              "      <td>-0.03295</td>\n",
              "      <td>-0.026145</td>\n",
              "      <td>-0.026145</td>\n",
              "      <td>-0.037111</td>\n",
              "      <td>0.020265</td>\n",
              "      <td>0.020345</td>\n",
              "      <td>-0.06625</td>\n",
              "      <td>-0.02615</td>\n",
              "    </tr>\n",
              "  </tbody>\n",
              "</table>\n",
              "</div>"
            ],
            "text/plain": [
              "      Short Term Debt  ...  Common Stock Par/Carry Value\n",
              "Year                   ...                              \n",
              "2018        -0.109433  ...                      -0.02615\n",
              "\n",
              "[1 rows x 20 columns]"
            ]
          },
          "metadata": {},
          "execution_count": 38
        }
      ]
    },
    {
      "cell_type": "code",
      "metadata": {
        "colab": {
          "base_uri": "https://localhost:8080/",
          "height": 685
        },
        "id": "hGeOZc1JbyOO",
        "outputId": "8ca4a1ff-9b81-462e-ba41-a0a934a4cd11"
      },
      "source": [
        "pie_stock(xgboost.predict_proba(one_report))"
      ],
      "execution_count": 41,
      "outputs": [
        {
          "output_type": "display_data",
          "data": {
            "image/png": "[encoded data removed]",
            "text/plain": [
              "<Figure size 720x720 with 1 Axes>"
            ]
          },
          "metadata": {}
        }
      ]
    },
    {
      "cell_type": "code",
      "metadata": {
        "id": "fKpehZnhb7pc"
      },
      "source": [
        ""
      ],
      "execution_count": null,
      "outputs": []
    }
  ]
}